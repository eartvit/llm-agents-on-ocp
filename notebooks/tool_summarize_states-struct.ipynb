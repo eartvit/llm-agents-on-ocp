{
 "cells": [
  {
   "cell_type": "code",
   "execution_count": 1,
   "id": "f2ae909a-4d0a-43bd-a62e-cf0b927ee688",
   "metadata": {},
   "outputs": [],
   "source": [
    "from pydantic.v1 import BaseModel, Field\n",
    "from langchain.tools import StructuredTool\n",
    "from typing import List, Optional, Dict\n",
    "import json"
   ]
  },
  {
   "cell_type": "code",
   "execution_count": null,
   "id": "9dc6f42c-1fb5-4eb6-a7bc-cd9a19777d6a",
   "metadata": {},
   "outputs": [],
   "source": [
    "class InputSchemaSummarizePodStates(BaseModel):\n",
    "    namespace: str = Field(description=\"The string value of the namespace.\")"
   ]
  },
  {
   "cell_type": "code",
   "execution_count": null,
   "id": "3fe3779d-8589-462a-a39c-d7a6e7a4ab66",
   "metadata": {},
   "outputs": [],
   "source": [
    "class InputSchemaSummarizeSvcStates(BaseModel):\n",
    "    namespace: str = Field(description=\"The string value of the namespace.\")"
   ]
  },
  {
   "cell_type": "code",
   "execution_count": null,
   "id": "4eb29915-50d4-4389-95f2-d3ef96d24c66",
   "metadata": {},
   "outputs": [],
   "source": [
    "class PortInfo(BaseModel):\n",
    "    \"\"\"The port information\"\"\"\n",
    "    port: int = Field(description=\"The value of the listening port\")\n",
    "    name: Optional[str] = Field(default=\"No name available\", description=\"The name of the port\")\n",
    "    protocol: str = Field(description=\"The protocol type used for communication\")"
   ]
  },
  {
   "cell_type": "code",
   "execution_count": null,
   "id": "bf538906-f07e-45a3-8bee-a485e00ae754",
   "metadata": {},
   "outputs": [],
   "source": [
    "class ServiceInfo(BaseModel):\n",
    "    \"\"\"The service information\"\"\"\n",
    "    name: str = Field(description=\"Name of the service\")\n",
    "    ports: List[PortInfo] = Field(description=\"The list of port information objects associated with the service\")\n",
    "    route: Optional[str] = Field(default=None, description=\"The route associated with the service\")"
   ]
  },
  {
   "cell_type": "code",
   "execution_count": null,
   "id": "f8295243-f064-4f7c-8313-3532fabc1d3c",
   "metadata": {},
   "outputs": [],
   "source": [
    "class PodInfo(BaseModel):\n",
    "    \"\"\"The pod information\"\"\"\n",
    "    name: str = Field(description=\"The name of the pod\")\n",
    "    service: Optional[ServiceInfo] = Field(default=None, description=\"The service information associated with the pod\")"
   ]
  },
  {
   "cell_type": "code",
   "execution_count": null,
   "id": "2024934a-4145-47ad-b2da-e2f96e7fd4ad",
   "metadata": {},
   "outputs": [],
   "source": [
    "class PodStateSummary(BaseModel):\n",
    "    \"\"\"Pod state and extended running pod information\"\"\"\n",
    "    state: str = Field(description=\"The state of the pod\")\n",
    "    count: int = Field(description=\"The number of pods associated with the state\")\n",
    "    running_pods: Optional[List[PodInfo]] = Field(default=None, description=\"The list of the running pods and their associated information\")"
   ]
  },
  {
   "cell_type": "code",
   "execution_count": null,
   "id": "02c538f3-9fca-409f-8f10-bc0484dab59d",
   "metadata": {},
   "outputs": [],
   "source": [
    "class NamespacePodSummary(BaseModel):\n",
    "    \"\"\"Pods information for a given namespace\"\"\"\n",
    "    namespace: str = Field(description=\"The name of the namespace\")\n",
    "    pod_states: Dict[str, PodStateSummary] = Field(description=\"The pod state summary objects information\")    "
   ]
  },
  {
   "cell_type": "code",
   "execution_count": null,
   "id": "6f30182f-b12c-4747-9c54-5811f1079e14",
   "metadata": {},
   "outputs": [],
   "source": [
    "class NamespaceSvcSummary(BaseModel):\n",
    "    \"\"\"The services information within a namespace\"\"\"\n",
    "    namespace: str = Field(description=\"The name of the namespace\")\n",
    "    svc_summary: Optional[List[ServiceInfo]] = Field(default=None, description=\"The list of the service information objects\")"
   ]
  },
  {
   "cell_type": "code",
   "execution_count": null,
   "id": "20344580-9eae-40f1-86d2-a667d4dc4324",
   "metadata": {},
   "outputs": [],
   "source": [
    "def get_service_info_for_pod(v1, namespace, pod_labels):\n",
    "    services = v1.list_namespaced_service(namespace)\n",
    "    for service in services.items:\n",
    "        selector = service.spec.selector\n",
    "        if selector:\n",
    "            match = all(item in pod_labels.items() for item in selector.items())\n",
    "            if match:\n",
    "                ports = [PortInfo(port=port.port, name=port.name if port.name else \"No name available\", protocol=port.protocol) for port in service.spec.ports]\n",
    "                route_info = get_route_info_for_service(namespace, service.metadata.name)\n",
    "                return ServiceInfo(name=service.metadata.name, ports=ports, route=route_info)\n",
    "    return ServiceInfo(name=\"unavailable\", ports=[])"
   ]
  },
  {
   "cell_type": "code",
   "execution_count": null,
   "id": "bdd3886b-0d60-4892-8a49-c1951948f99e",
   "metadata": {},
   "outputs": [],
   "source": [
    "def get_route_info_for_service(namespace, service_name):\n",
    "\n",
    "    api = client.CustomObjectsApi()\n",
    "    routes = api.list_namespaced_custom_object(group=\"route.openshift.io\", version=\"v1\", namespace=namespace, plural=\"routes\")\n",
    "    for route in routes['items']:\n",
    "        if route['spec']['to']['name'] == service_name:\n",
    "            host = route['spec']['host']\n",
    "            path = route['spec'].get('path', '/')\n",
    "            return f\"http://{host}{path}\"\n",
    "    return \"unavailable\""
   ]
  },
  {
   "cell_type": "code",
   "execution_count": null,
   "id": "1890d287-4e80-4d26-91c5-6d27d21c11f5",
   "metadata": {},
   "outputs": [],
   "source": [
    "'''\n",
    "Returns a summary of the pods running inside a namespace.\n",
    "Expects as input the name of the namespace and returns the following information: for each pod state value it returns the number of pods in that state. \n",
    "Then for the running pods it returns for each pod its name, any available services information such as name, and associated list of ports. \n",
    "It also returns any associated route with a service.\n",
    "'''"
   ]
  },
  {
   "cell_type": "code",
   "execution_count": null,
   "id": "f03e5f31-3ba2-46b9-be39-67400160e3e1",
   "metadata": {},
   "outputs": [],
   "source": [
    "def summarize_pod_states(namespace: str) -> NamespacePodSummary:\n",
    "\n",
    "    v1 = client.CoreV1Api()\n",
    "    try:\n",
    "        pods = v1.list_namespaced_pod(namespace)\n",
    "        state_summary: Dict[str, PodStateSummary] = {}\n",
    "        running_pods: List[PodInfo] = []\n",
    "\n",
    "        for pod in pods.items:\n",
    "            state = pod.status.phase if pod.status.phase else 'Unknown'\n",
    "\n",
    "            if state not in state_summary:\n",
    "                state_summary[state] = PodStateSummary(state=state, count=0)\n",
    "            state_summary[state].count += 1\n",
    "\n",
    "            if state == 'Running':\n",
    "                service_info = get_service_info_for_pod(v1, namespace, pod.metadata.labels)\n",
    "                running_pods.append(PodInfo(name=pod.metadata.name, service=service_info))\n",
    "\n",
    "        if 'Running' in state_summary:\n",
    "            state_summary['Running'].running_pods = running_pods\n",
    "\n",
    "        return NamespacePodSummary(namespace=namespace, pod_states=state_summary)\n",
    "\n",
    "    except client.exceptions.ApiException as e:\n",
    "        print(f\"Exception when calling CoreV1Api->list_namespaced_pod: {e}\")\n",
    "        return NamespacePodSummary(namespace=namespace, pod_states={})"
   ]
  },
  {
   "cell_type": "code",
   "execution_count": null,
   "id": "bd51b479-f18e-4fb3-b2ce-7ffb7740cbcc",
   "metadata": {},
   "outputs": [],
   "source": [
    "namespace_pods_summary_description = \"\"\"\n",
    "Summarize pods information in an OpenShift namespace\n",
    ":param namespace: the string value of the namespace\n",
    ":return: an object containing the name of namespace and pod state and count information. For the running pods it also returns its name and if available any service information such as service name, service ports and route.\n",
    "\n",
    "Pass on the parameters as a dictionary that uses double quotes for the parameter names. ALWAYS pass on values for all three parameters as instructed.\n",
    "\"\"\""
   ]
  },
  {
   "cell_type": "code",
   "execution_count": null,
   "id": "62683ae1-b72d-4066-894d-6cdfa8d04fb7",
   "metadata": {},
   "outputs": [],
   "source": [
    "\"\"\"\n",
    "and returns the following information: for each pod state value it returns the number of pods in that state. \n",
    "Then for the running pods it returns for each pod its name, any available services information such as name, and associated list of ports. \n",
    "It also returns any associated route with a service information.\n",
    "\"\"\""
   ]
  },
  {
   "cell_type": "code",
   "execution_count": null,
   "id": "6616d67d-5df1-4d07-832f-774c3edb5a86",
   "metadata": {},
   "outputs": [],
   "source": [
    "# Create a tool for the agent\n",
    "tool_namespace_pods_summary = StructuredTool(\n",
    "    name=\"Summarize_Pods_Information_In_OpenShift_Namespace\",\n",
    "    func=summarize_pod_states,\n",
    "    args_schema=InputSchemaSummarizePodStates,\n",
    "    description=namespace_pods_summary_description,\n",
    "    handle_tool_error=True,\n",
    "    handle_validation_error=True,\n",
    ")"
   ]
  },
  {
   "cell_type": "code",
   "execution_count": null,
   "id": "0dba0059-45d5-4fe1-8c1c-9885878bba11",
   "metadata": {},
   "outputs": [],
   "source": [
    "#StructuredTool("
   ]
  },
  {
   "cell_type": "code",
   "execution_count": null,
   "id": "f41185bb-36ce-4f40-bff6-b880625ee217",
   "metadata": {},
   "outputs": [],
   "source": [
    "'''\n",
    "Returns a summary of the services defined inside a namespace.\n",
    "Expects as input the name of the namespace.\n",
    "It returns a list of services and their associated list of port information.\n",
    "Each port information contains the port value, name and protocol.\n",
    "'''\n"
   ]
  },
  {
   "cell_type": "code",
   "execution_count": null,
   "id": "4c003909-47c2-466a-8612-345892d4339d",
   "metadata": {},
   "outputs": [],
   "source": [
    "def summarize_svc_states(namespace: str) -> NamespaceSvcSummary:\n",
    "    v1 = client.CoreV1Api()\n",
    "    try:\n",
    "        services_summary: List[ServiceInfo] = []\n",
    "        services = v1.list_namespaced_service(namespace)\n",
    "        for service in services.items:\n",
    "            ports = [PortInfo(port=port.port, name=port.name if port.name else \"No name available\", protocol=port.protocol) for port in service.spec.ports]\n",
    "            route_info = get_route_info_for_service(namespace, service.metadata.name)\n",
    "            svc_info = ServiceInfo(name=service.metadata.name, ports=ports, route=route_info)\n",
    "            services_summary.append(svc_info)\n",
    "\n",
    "        return NamespaceSvcSummary(namespace=namespace, svc_summary=services_summary)\n",
    "\n",
    "    except client.exceptions.ApiException as e:\n",
    "        print(f\"Exception when calling CoreV1Api->list_namespaced_pod: {e}\")\n",
    "        return NamespaceSvcSummary(namespace=namespace, svc_summary=[])"
   ]
  },
  {
   "cell_type": "code",
   "execution_count": null,
   "id": "bf96d9bc-1b82-4f73-8652-1991ad60d36b",
   "metadata": {},
   "outputs": [],
   "source": [
    "namespace_svc_summary_description = \"\"\"\n",
    "Summarize services information in an OpenShift namespace.\n",
    ":param namespace: the string value of the namespace\n",
    ":return: an object containing the name of namespace and a list of the available services and their properties such as name, port numbers and route information\n",
    "\n",
    "Pass on the parameters as a dictionary that uses double quotes for the parameter names. ALWAYS pass on values for all three parameters as instructed.\n",
    "\"\"\""
   ]
  },
  {
   "cell_type": "code",
   "execution_count": null,
   "id": "1fbd942e-db5c-4375-a26e-1715a80bcc83",
   "metadata": {},
   "outputs": [],
   "source": [
    "# Create a tool for the agent\n",
    "tool_namespace_svc_summary = StructuredTool(\n",
    "    name=\"Summarize_Services_Information_In_OpenShift_Namespace\",\n",
    "    func=summarize_svc_states,\n",
    "    args_schema=InputSchemaSummarizeSvcStates,\n",
    "    description=namespace_svc_summary_description,\n",
    "    handle_tool_error=True,\n",
    "    handle_validation_error=True,\n",
    ")"
   ]
  },
  {
   "cell_type": "code",
   "execution_count": null,
   "id": "913d1d70-6590-4ba7-b535-a45664fef713",
   "metadata": {},
   "outputs": [],
   "source": []
  }
 ],
 "metadata": {
  "kernelspec": {
   "display_name": "Python 3.9",
   "language": "python",
   "name": "python3"
  },
  "language_info": {
   "codemirror_mode": {
    "name": "ipython",
    "version": 3
   },
   "file_extension": ".py",
   "mimetype": "text/x-python",
   "name": "python",
   "nbconvert_exporter": "python",
   "pygments_lexer": "ipython3",
   "version": "3.9.18"
  }
 },
 "nbformat": 4,
 "nbformat_minor": 5
}
