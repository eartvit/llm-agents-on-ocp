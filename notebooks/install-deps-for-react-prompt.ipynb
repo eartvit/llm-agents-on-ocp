{
 "cells": [
  {
   "cell_type": "code",
   "execution_count": null,
   "id": "4db860bc-d207-4330-a677-8b6ed68d8c67",
   "metadata": {
    "tags": []
   },
   "outputs": [],
   "source": [
    "#The below versions are required to run the AIOps notebook with ReAct prompt from langchain/hub"
   ]
  },
  {
   "cell_type": "code",
   "execution_count": null,
   "id": "74d99ce1-5700-4c4f-a617-18b242ea21d4",
   "metadata": {
    "tags": []
   },
   "outputs": [],
   "source": [
    "!pip install -q langchain==\"0.2.12\" langchain-core==\"0.2.29\" langchain-community==\"0.2.11\" langchainhub openai langchain-openai pydantic prometheus_api_client pyOpenSSL"
   ]
  },
  {
   "cell_type": "code",
   "execution_count": null,
   "id": "6276e2de-df0f-4bce-a1fe-0b1750183ece",
   "metadata": {
    "tags": []
   },
   "outputs": [],
   "source": [
    "!pip -q install -U langchain-huggingface langchain-milvus"
   ]
  },
  {
   "cell_type": "code",
   "execution_count": null,
   "id": "6142308b-0d6f-4617-8437-26a7f47068e1",
   "metadata": {
    "tags": []
   },
   "outputs": [],
   "source": [
    "#!pip install pydantic==1.10.15"
   ]
  },
  {
   "cell_type": "code",
   "execution_count": null,
   "id": "2f5e6586-657e-4801-b1a7-b2783c26024c",
   "metadata": {
    "tags": []
   },
   "outputs": [],
   "source": [
    "#!pip install pyOpenSSL==\"24.1.0\""
   ]
  },
  {
   "cell_type": "code",
   "execution_count": null,
   "id": "a314dcc5-4ee3-4029-b7d8-f8b6f8242e89",
   "metadata": {},
   "outputs": [],
   "source": []
  }
 ],
 "metadata": {
  "kernelspec": {
   "display_name": "Torch-GPU",
   "language": "python",
   "name": "torch-gpu"
  },
  "language_info": {
   "codemirror_mode": {
    "name": "ipython",
    "version": 3
   },
   "file_extension": ".py",
   "mimetype": "text/x-python",
   "name": "python",
   "nbconvert_exporter": "python",
   "pygments_lexer": "ipython3",
   "version": "3.10.12"
  }
 },
 "nbformat": 4,
 "nbformat_minor": 5
}
